{
 "cells": [
  {
   "cell_type": "markdown",
   "metadata": {},
   "source": [
    "# Descriptive Statistics Review\n",
    "\n",
    "In this second part of the lab, we are going to continue working with the data that we cleaned in the last part. \n",
    "Be sure to continue to write clean code and comment your work well!\n",
    "\n",
    "First, lets import our libraries and the data we saved. "
   ]
  },
  {
   "cell_type": "code",
   "execution_count": 1,
   "metadata": {},
   "outputs": [],
   "source": [
    "import pandas as pd\n",
    "import matplotlib.pyplot as plt"
   ]
  },
  {
   "cell_type": "code",
   "execution_count": 2,
   "metadata": {},
   "outputs": [],
   "source": [
    "diamonds = pd.read_csv('diamonds_clean.csv')\n",
    "diamonds = diamonds.drop('Unnamed: 0', axis=1)"
   ]
  },
  {
   "cell_type": "markdown",
   "metadata": {},
   "source": [
    "Now that we cleaned our data, we can proceed with some exploratory analysis. We will analyze the features that affect price the most.\n",
    "\n",
    "Let's start by looking at how the charateristics of a diamond (especially the price, since that's our focus) change based on its color. Remember that you can use the `groupby()` method in pandas. \n",
    "\n",
    "**Using the `describe()` method, take a look on the dataset paying special attention to the variability. Comment what you see.**"
   ]
  },
  {
   "cell_type": "code",
   "execution_count": 3,
   "metadata": {},
   "outputs": [
    {
     "data": {
      "text/html": [
       "<div>\n",
       "<style scoped>\n",
       "    .dataframe tbody tr th:only-of-type {\n",
       "        vertical-align: middle;\n",
       "    }\n",
       "\n",
       "    .dataframe tbody tr th {\n",
       "        vertical-align: top;\n",
       "    }\n",
       "\n",
       "    .dataframe thead th {\n",
       "        text-align: right;\n",
       "    }\n",
       "</style>\n",
       "<table border=\"1\" class=\"dataframe\">\n",
       "  <thead>\n",
       "    <tr style=\"text-align: right;\">\n",
       "      <th></th>\n",
       "      <th>carat</th>\n",
       "      <th>color</th>\n",
       "      <th>clarity</th>\n",
       "      <th>depth</th>\n",
       "      <th>table</th>\n",
       "      <th>price</th>\n",
       "      <th>x</th>\n",
       "      <th>y</th>\n",
       "      <th>z</th>\n",
       "    </tr>\n",
       "  </thead>\n",
       "  <tbody>\n",
       "    <tr>\n",
       "      <td>count</td>\n",
       "      <td>53940.000000</td>\n",
       "      <td>53940.000000</td>\n",
       "      <td>53940.000000</td>\n",
       "      <td>53940.000000</td>\n",
       "      <td>53940.000000</td>\n",
       "      <td>53940.000000</td>\n",
       "      <td>53932.000000</td>\n",
       "      <td>53933.000000</td>\n",
       "      <td>53933.000000</td>\n",
       "    </tr>\n",
       "    <tr>\n",
       "      <td>mean</td>\n",
       "      <td>0.797940</td>\n",
       "      <td>3.405803</td>\n",
       "      <td>3.051020</td>\n",
       "      <td>61.749405</td>\n",
       "      <td>57.457184</td>\n",
       "      <td>3932.799722</td>\n",
       "      <td>5.732007</td>\n",
       "      <td>5.734159</td>\n",
       "      <td>3.539707</td>\n",
       "    </tr>\n",
       "    <tr>\n",
       "      <td>std</td>\n",
       "      <td>0.474011</td>\n",
       "      <td>1.701105</td>\n",
       "      <td>1.647136</td>\n",
       "      <td>1.432621</td>\n",
       "      <td>2.234491</td>\n",
       "      <td>3989.439738</td>\n",
       "      <td>1.119670</td>\n",
       "      <td>1.113273</td>\n",
       "      <td>0.692075</td>\n",
       "    </tr>\n",
       "    <tr>\n",
       "      <td>min</td>\n",
       "      <td>0.200000</td>\n",
       "      <td>0.000000</td>\n",
       "      <td>0.000000</td>\n",
       "      <td>43.000000</td>\n",
       "      <td>43.000000</td>\n",
       "      <td>326.000000</td>\n",
       "      <td>3.730000</td>\n",
       "      <td>3.680000</td>\n",
       "      <td>1.070000</td>\n",
       "    </tr>\n",
       "    <tr>\n",
       "      <td>25%</td>\n",
       "      <td>0.400000</td>\n",
       "      <td>2.000000</td>\n",
       "      <td>2.000000</td>\n",
       "      <td>61.000000</td>\n",
       "      <td>56.000000</td>\n",
       "      <td>950.000000</td>\n",
       "      <td>4.710000</td>\n",
       "      <td>4.720000</td>\n",
       "      <td>2.910000</td>\n",
       "    </tr>\n",
       "    <tr>\n",
       "      <td>50%</td>\n",
       "      <td>0.700000</td>\n",
       "      <td>3.000000</td>\n",
       "      <td>3.000000</td>\n",
       "      <td>61.800000</td>\n",
       "      <td>57.000000</td>\n",
       "      <td>2401.000000</td>\n",
       "      <td>5.700000</td>\n",
       "      <td>5.710000</td>\n",
       "      <td>3.530000</td>\n",
       "    </tr>\n",
       "    <tr>\n",
       "      <td>75%</td>\n",
       "      <td>1.040000</td>\n",
       "      <td>5.000000</td>\n",
       "      <td>4.000000</td>\n",
       "      <td>62.500000</td>\n",
       "      <td>59.000000</td>\n",
       "      <td>5324.250000</td>\n",
       "      <td>6.540000</td>\n",
       "      <td>6.540000</td>\n",
       "      <td>4.040000</td>\n",
       "    </tr>\n",
       "    <tr>\n",
       "      <td>max</td>\n",
       "      <td>5.010000</td>\n",
       "      <td>6.000000</td>\n",
       "      <td>7.000000</td>\n",
       "      <td>79.000000</td>\n",
       "      <td>95.000000</td>\n",
       "      <td>18823.000000</td>\n",
       "      <td>10.740000</td>\n",
       "      <td>19.278421</td>\n",
       "      <td>8.060000</td>\n",
       "    </tr>\n",
       "  </tbody>\n",
       "</table>\n",
       "</div>"
      ],
      "text/plain": [
       "              carat         color       clarity         depth         table  \\\n",
       "count  53940.000000  53940.000000  53940.000000  53940.000000  53940.000000   \n",
       "mean       0.797940      3.405803      3.051020     61.749405     57.457184   \n",
       "std        0.474011      1.701105      1.647136      1.432621      2.234491   \n",
       "min        0.200000      0.000000      0.000000     43.000000     43.000000   \n",
       "25%        0.400000      2.000000      2.000000     61.000000     56.000000   \n",
       "50%        0.700000      3.000000      3.000000     61.800000     57.000000   \n",
       "75%        1.040000      5.000000      4.000000     62.500000     59.000000   \n",
       "max        5.010000      6.000000      7.000000     79.000000     95.000000   \n",
       "\n",
       "              price             x             y             z  \n",
       "count  53940.000000  53932.000000  53933.000000  53933.000000  \n",
       "mean    3932.799722      5.732007      5.734159      3.539707  \n",
       "std     3989.439738      1.119670      1.113273      0.692075  \n",
       "min      326.000000      3.730000      3.680000      1.070000  \n",
       "25%      950.000000      4.710000      4.720000      2.910000  \n",
       "50%     2401.000000      5.700000      5.710000      3.530000  \n",
       "75%     5324.250000      6.540000      6.540000      4.040000  \n",
       "max    18823.000000     10.740000     19.278421      8.060000  "
      ]
     },
     "execution_count": 3,
     "metadata": {},
     "output_type": "execute_result"
    }
   ],
   "source": [
    "#your code here\n",
    "diamonds.describe()"
   ]
  },
  {
   "cell_type": "code",
   "execution_count": null,
   "metadata": {},
   "outputs": [],
   "source": [
    "#your comments here\n",
    "\n",
    "\"\"\"There is a great variability in price\"\"\""
   ]
  },
  {
   "cell_type": "markdown",
   "metadata": {},
   "source": [
    "Let's proceed to check each feature separately. \n",
    "\n",
    "**Before starting, which features do you think that will affect the price most and why? You will contrast your hypotheses with your results.**"
   ]
  },
  {
   "cell_type": "code",
   "execution_count": null,
   "metadata": {},
   "outputs": [],
   "source": [
    "#your hypotheses here\n",
    "\n",
    "\"\"\"I think the feature that will afect the price more is the carat wich is the weight of the diamond\"\"\""
   ]
  },
  {
   "cell_type": "markdown",
   "metadata": {},
   "source": [
    "## 1. The `color` column\n",
    "First, let's look at the color column.\n",
    "\n",
    "**For each different color, find the mean of each column. You should have a matrix with every color as rows and the columns `carat`, `clarity`, etc as columns.**"
   ]
  },
  {
   "cell_type": "code",
   "execution_count": 4,
   "metadata": {},
   "outputs": [
    {
     "data": {
      "text/html": [
       "<div>\n",
       "<style scoped>\n",
       "    .dataframe tbody tr th:only-of-type {\n",
       "        vertical-align: middle;\n",
       "    }\n",
       "\n",
       "    .dataframe tbody tr th {\n",
       "        vertical-align: top;\n",
       "    }\n",
       "\n",
       "    .dataframe thead th {\n",
       "        text-align: right;\n",
       "    }\n",
       "</style>\n",
       "<table border=\"1\" class=\"dataframe\">\n",
       "  <thead>\n",
       "    <tr style=\"text-align: right;\">\n",
       "      <th></th>\n",
       "      <th>carat</th>\n",
       "      <th>clarity</th>\n",
       "      <th>depth</th>\n",
       "      <th>table</th>\n",
       "      <th>price</th>\n",
       "      <th>x</th>\n",
       "      <th>y</th>\n",
       "      <th>z</th>\n",
       "    </tr>\n",
       "    <tr>\n",
       "      <th>color</th>\n",
       "      <th></th>\n",
       "      <th></th>\n",
       "      <th></th>\n",
       "      <th></th>\n",
       "      <th></th>\n",
       "      <th></th>\n",
       "      <th></th>\n",
       "      <th></th>\n",
       "    </tr>\n",
       "  </thead>\n",
       "  <tbody>\n",
       "    <tr>\n",
       "      <td>0</td>\n",
       "      <td>1.162137</td>\n",
       "      <td>2.776353</td>\n",
       "      <td>61.887215</td>\n",
       "      <td>57.812393</td>\n",
       "      <td>5323.818020</td>\n",
       "      <td>6.519338</td>\n",
       "      <td>6.518130</td>\n",
       "      <td>4.033251</td>\n",
       "    </tr>\n",
       "    <tr>\n",
       "      <td>1</td>\n",
       "      <td>1.026927</td>\n",
       "      <td>2.964035</td>\n",
       "      <td>61.846385</td>\n",
       "      <td>57.577278</td>\n",
       "      <td>5091.874954</td>\n",
       "      <td>6.222826</td>\n",
       "      <td>6.222728</td>\n",
       "      <td>3.846369</td>\n",
       "    </tr>\n",
       "    <tr>\n",
       "      <td>2</td>\n",
       "      <td>0.911799</td>\n",
       "      <td>2.933646</td>\n",
       "      <td>61.836850</td>\n",
       "      <td>57.517811</td>\n",
       "      <td>4486.669196</td>\n",
       "      <td>5.984776</td>\n",
       "      <td>5.981484</td>\n",
       "      <td>3.699147</td>\n",
       "    </tr>\n",
       "    <tr>\n",
       "      <td>3</td>\n",
       "      <td>0.771190</td>\n",
       "      <td>3.463425</td>\n",
       "      <td>61.757111</td>\n",
       "      <td>57.288629</td>\n",
       "      <td>3999.135671</td>\n",
       "      <td>5.678549</td>\n",
       "      <td>5.681198</td>\n",
       "      <td>3.507966</td>\n",
       "    </tr>\n",
       "    <tr>\n",
       "      <td>4</td>\n",
       "      <td>0.736538</td>\n",
       "      <td>3.133934</td>\n",
       "      <td>61.694582</td>\n",
       "      <td>57.433536</td>\n",
       "      <td>3724.886397</td>\n",
       "      <td>5.616727</td>\n",
       "      <td>5.620634</td>\n",
       "      <td>3.465788</td>\n",
       "    </tr>\n",
       "    <tr>\n",
       "      <td>5</td>\n",
       "      <td>0.657867</td>\n",
       "      <td>2.969889</td>\n",
       "      <td>61.662090</td>\n",
       "      <td>57.491201</td>\n",
       "      <td>3076.752475</td>\n",
       "      <td>5.411580</td>\n",
       "      <td>5.416949</td>\n",
       "      <td>3.337767</td>\n",
       "    </tr>\n",
       "    <tr>\n",
       "      <td>6</td>\n",
       "      <td>0.657795</td>\n",
       "      <td>2.691513</td>\n",
       "      <td>61.698125</td>\n",
       "      <td>57.404590</td>\n",
       "      <td>3169.954096</td>\n",
       "      <td>5.417851</td>\n",
       "      <td>5.421928</td>\n",
       "      <td>3.343320</td>\n",
       "    </tr>\n",
       "  </tbody>\n",
       "</table>\n",
       "</div>"
      ],
      "text/plain": [
       "          carat   clarity      depth      table        price         x  \\\n",
       "color                                                                    \n",
       "0      1.162137  2.776353  61.887215  57.812393  5323.818020  6.519338   \n",
       "1      1.026927  2.964035  61.846385  57.577278  5091.874954  6.222826   \n",
       "2      0.911799  2.933646  61.836850  57.517811  4486.669196  5.984776   \n",
       "3      0.771190  3.463425  61.757111  57.288629  3999.135671  5.678549   \n",
       "4      0.736538  3.133934  61.694582  57.433536  3724.886397  5.616727   \n",
       "5      0.657867  2.969889  61.662090  57.491201  3076.752475  5.411580   \n",
       "6      0.657795  2.691513  61.698125  57.404590  3169.954096  5.417851   \n",
       "\n",
       "              y         z  \n",
       "color                      \n",
       "0      6.518130  4.033251  \n",
       "1      6.222728  3.846369  \n",
       "2      5.981484  3.699147  \n",
       "3      5.681198  3.507966  \n",
       "4      5.620634  3.465788  \n",
       "5      5.416949  3.337767  \n",
       "6      5.421928  3.343320  "
      ]
     },
     "execution_count": 4,
     "metadata": {},
     "output_type": "execute_result"
    }
   ],
   "source": [
    "#your code here\n",
    "diamonds.groupby(['color']).mean()"
   ]
  },
  {
   "cell_type": "markdown",
   "metadata": {},
   "source": [
    "**What do you see? Pay special attention to the relationship between price and color.**"
   ]
  },
  {
   "cell_type": "code",
   "execution_count": null,
   "metadata": {},
   "outputs": [],
   "source": [
    "#your thoughts here\n",
    "\n",
    "'''The worst colour have the highest mean price '''"
   ]
  },
  {
   "cell_type": "code",
   "execution_count": 60,
   "metadata": {},
   "outputs": [
    {
     "data": {
      "text/plain": [
       "3    11292\n",
       "5     9797\n",
       "4     9542\n",
       "2     8304\n",
       "6     6775\n",
       "1     5422\n",
       "0     2808\n",
       "Name: color, dtype: int64"
      ]
     },
     "execution_count": 60,
     "metadata": {},
     "output_type": "execute_result"
    }
   ],
   "source": [
    "diamonds['color'].value_counts()"
   ]
  },
  {
   "cell_type": "markdown",
   "metadata": {},
   "source": [
    "Let's go further into the color feature. We will plot the frequency distribution of the diamonds color in our dataset. \n",
    "\n",
    "**Plot the distribution and analyze it. Remember that you can use the pandas `plot()` method.**"
   ]
  },
  {
   "cell_type": "code",
   "execution_count": 61,
   "metadata": {},
   "outputs": [
    {
     "data": {
      "text/plain": [
       "color\n",
       "0     2808\n",
       "1     5422\n",
       "2     8304\n",
       "3    11292\n",
       "4     9542\n",
       "5     9797\n",
       "6     6775\n",
       "dtype: int64"
      ]
     },
     "execution_count": 61,
     "metadata": {},
     "output_type": "execute_result"
    }
   ],
   "source": [
    "diamonds.groupby(['color']).size()"
   ]
  },
  {
   "cell_type": "code",
   "execution_count": 10,
   "metadata": {},
   "outputs": [
    {
     "data": {
      "text/plain": [
       "(array([ 2808.,  5422.,     0.,  8304.,     0., 11292.,  9542.,     0.,\n",
       "         9797.,  6775.]),\n",
       " array([0. , 0.6, 1.2, 1.8, 2.4, 3. , 3.6, 4.2, 4.8, 5.4, 6. ]),\n",
       " <a list of 10 Patch objects>)"
      ]
     },
     "execution_count": 10,
     "metadata": {},
     "output_type": "execute_result"
    },
    {
     "data": {
      "image/png": "[encoded data removed]",
      "text/plain": [
       "<Figure size 432x288 with 1 Axes>"
      ]
     },
     "metadata": {
      "needs_background": "light"
     },
     "output_type": "display_data"
    }
   ],
   "source": [
    "#your code here\n",
    "\n",
    "#not so nice ...\n",
    "\n",
    "plt.hist(diamonds['color'])"
   ]
  },
  {
   "cell_type": "code",
   "execution_count": 29,
   "metadata": {},
   "outputs": [
    {
     "data": {
      "text/plain": [
       "<matplotlib.axes._subplots.AxesSubplot at 0x11d63ef90>"
      ]
     },
     "execution_count": 29,
     "metadata": {},
     "output_type": "execute_result"
    },
    {
     "data": {
      "image/png": "[encoded data removed]",
      "text/plain": [
       "<Figure size 432x288 with 1 Axes>"
      ]
     },
     "metadata": {
      "needs_background": "light"
     },
     "output_type": "display_data"
    }
   ],
   "source": [
    "diamonds.groupby(['color']).size().plot(kind='bar')"
   ]
  },
  {
   "cell_type": "code",
   "execution_count": 52,
   "metadata": {},
   "outputs": [
    {
     "data": {
      "text/plain": [
       "<BarContainer object of 1 artists>"
      ]
     },
     "execution_count": 52,
     "metadata": {},
     "output_type": "execute_result"
    },
    {
     "data": {
      "image/png": "[encoded data removed]",
      "text/plain": [
       "<Figure size 432x288 with 1 Axes>"
      ]
     },
     "metadata": {
      "needs_background": "light"
     },
     "output_type": "display_data"
    }
   ],
   "source": [
    "plt.bar(diamonds['color'].value_counts()[0],diamonds['color'].value_counts())"
   ]
  },
  {
   "cell_type": "code",
   "execution_count": null,
   "metadata": {},
   "outputs": [],
   "source": [
    "#your comments here"
   ]
  },
  {
   "cell_type": "markdown",
   "metadata": {},
   "source": [
    "## 2.The `carat` column "
   ]
  },
  {
   "cell_type": "markdown",
   "metadata": {},
   "source": [
    "Let's check the `carat` (weight), since this could also be a potential factor for price change.\n",
    "\n",
    "**Find the mean of each column for each value of `carat` using the `groupby` method. Then comment your results.**"
   ]
  },
  {
   "cell_type": "code",
   "execution_count": 62,
   "metadata": {},
   "outputs": [
    {
     "data": {
      "text/html": [
       "<div>\n",
       "<style scoped>\n",
       "    .dataframe tbody tr th:only-of-type {\n",
       "        vertical-align: middle;\n",
       "    }\n",
       "\n",
       "    .dataframe tbody tr th {\n",
       "        vertical-align: top;\n",
       "    }\n",
       "\n",
       "    .dataframe thead th {\n",
       "        text-align: right;\n",
       "    }\n",
       "</style>\n",
       "<table border=\"1\" class=\"dataframe\">\n",
       "  <thead>\n",
       "    <tr style=\"text-align: right;\">\n",
       "      <th></th>\n",
       "      <th>color</th>\n",
       "      <th>clarity</th>\n",
       "      <th>depth</th>\n",
       "      <th>table</th>\n",
       "      <th>price</th>\n",
       "      <th>x</th>\n",
       "      <th>y</th>\n",
       "      <th>z</th>\n",
       "    </tr>\n",
       "    <tr>\n",
       "      <th>carat</th>\n",
       "      <th></th>\n",
       "      <th></th>\n",
       "      <th></th>\n",
       "      <th></th>\n",
       "      <th></th>\n",
       "      <th></th>\n",
       "      <th></th>\n",
       "      <th></th>\n",
       "    </tr>\n",
       "  </thead>\n",
       "  <tbody>\n",
       "    <tr>\n",
       "      <td>0.20</td>\n",
       "      <td>5.166667</td>\n",
       "      <td>2.833333</td>\n",
       "      <td>61.100000</td>\n",
       "      <td>59.333333</td>\n",
       "      <td>365.166667</td>\n",
       "      <td>3.786667</td>\n",
       "      <td>3.753333</td>\n",
       "      <td>2.303333</td>\n",
       "    </tr>\n",
       "    <tr>\n",
       "      <td>0.21</td>\n",
       "      <td>5.444444</td>\n",
       "      <td>2.666667</td>\n",
       "      <td>60.511111</td>\n",
       "      <td>58.444444</td>\n",
       "      <td>380.222222</td>\n",
       "      <td>3.874444</td>\n",
       "      <td>3.837778</td>\n",
       "      <td>2.332222</td>\n",
       "    </tr>\n",
       "    <tr>\n",
       "      <td>0.22</td>\n",
       "      <td>4.800000</td>\n",
       "      <td>2.600000</td>\n",
       "      <td>61.620000</td>\n",
       "      <td>60.400000</td>\n",
       "      <td>391.400000</td>\n",
       "      <td>3.898000</td>\n",
       "      <td>3.848000</td>\n",
       "      <td>2.386000</td>\n",
       "    </tr>\n",
       "    <tr>\n",
       "      <td>0.23</td>\n",
       "      <td>4.518771</td>\n",
       "      <td>4.901024</td>\n",
       "      <td>61.426621</td>\n",
       "      <td>58.034130</td>\n",
       "      <td>486.143345</td>\n",
       "      <td>3.946382</td>\n",
       "      <td>3.973379</td>\n",
       "      <td>2.431468</td>\n",
       "    </tr>\n",
       "    <tr>\n",
       "      <td>0.24</td>\n",
       "      <td>4.185039</td>\n",
       "      <td>4.972441</td>\n",
       "      <td>61.599213</td>\n",
       "      <td>57.488189</td>\n",
       "      <td>505.185039</td>\n",
       "      <td>3.990157</td>\n",
       "      <td>4.019331</td>\n",
       "      <td>2.465591</td>\n",
       "    </tr>\n",
       "    <tr>\n",
       "      <td>...</td>\n",
       "      <td>...</td>\n",
       "      <td>...</td>\n",
       "      <td>...</td>\n",
       "      <td>...</td>\n",
       "      <td>...</td>\n",
       "      <td>...</td>\n",
       "      <td>...</td>\n",
       "      <td>...</td>\n",
       "    </tr>\n",
       "    <tr>\n",
       "      <td>4.00</td>\n",
       "      <td>1.000000</td>\n",
       "      <td>0.000000</td>\n",
       "      <td>63.300000</td>\n",
       "      <td>58.000000</td>\n",
       "      <td>15984.000000</td>\n",
       "      <td>10.010000</td>\n",
       "      <td>9.940000</td>\n",
       "      <td>6.310000</td>\n",
       "    </tr>\n",
       "    <tr>\n",
       "      <td>4.01</td>\n",
       "      <td>0.500000</td>\n",
       "      <td>0.000000</td>\n",
       "      <td>61.750000</td>\n",
       "      <td>61.500000</td>\n",
       "      <td>15223.000000</td>\n",
       "      <td>10.080000</td>\n",
       "      <td>10.014754</td>\n",
       "      <td>6.205000</td>\n",
       "    </tr>\n",
       "    <tr>\n",
       "      <td>4.13</td>\n",
       "      <td>2.000000</td>\n",
       "      <td>0.000000</td>\n",
       "      <td>64.800000</td>\n",
       "      <td>61.000000</td>\n",
       "      <td>17329.000000</td>\n",
       "      <td>10.000000</td>\n",
       "      <td>9.850000</td>\n",
       "      <td>6.430000</td>\n",
       "    </tr>\n",
       "    <tr>\n",
       "      <td>4.50</td>\n",
       "      <td>0.000000</td>\n",
       "      <td>0.000000</td>\n",
       "      <td>65.800000</td>\n",
       "      <td>58.000000</td>\n",
       "      <td>18531.000000</td>\n",
       "      <td>10.230000</td>\n",
       "      <td>10.195532</td>\n",
       "      <td>6.720000</td>\n",
       "    </tr>\n",
       "    <tr>\n",
       "      <td>5.01</td>\n",
       "      <td>0.000000</td>\n",
       "      <td>0.000000</td>\n",
       "      <td>65.500000</td>\n",
       "      <td>59.000000</td>\n",
       "      <td>18018.000000</td>\n",
       "      <td>10.740000</td>\n",
       "      <td>10.572977</td>\n",
       "      <td>6.980000</td>\n",
       "    </tr>\n",
       "  </tbody>\n",
       "</table>\n",
       "<p>273 rows × 8 columns</p>\n",
       "</div>"
      ],
      "text/plain": [
       "          color   clarity      depth      table         price          x  \\\n",
       "carat                                                                      \n",
       "0.20   5.166667  2.833333  61.100000  59.333333    365.166667   3.786667   \n",
       "0.21   5.444444  2.666667  60.511111  58.444444    380.222222   3.874444   \n",
       "0.22   4.800000  2.600000  61.620000  60.400000    391.400000   3.898000   \n",
       "0.23   4.518771  4.901024  61.426621  58.034130    486.143345   3.946382   \n",
       "0.24   4.185039  4.972441  61.599213  57.488189    505.185039   3.990157   \n",
       "...         ...       ...        ...        ...           ...        ...   \n",
       "4.00   1.000000  0.000000  63.300000  58.000000  15984.000000  10.010000   \n",
       "4.01   0.500000  0.000000  61.750000  61.500000  15223.000000  10.080000   \n",
       "4.13   2.000000  0.000000  64.800000  61.000000  17329.000000  10.000000   \n",
       "4.50   0.000000  0.000000  65.800000  58.000000  18531.000000  10.230000   \n",
       "5.01   0.000000  0.000000  65.500000  59.000000  18018.000000  10.740000   \n",
       "\n",
       "               y         z  \n",
       "carat                       \n",
       "0.20    3.753333  2.303333  \n",
       "0.21    3.837778  2.332222  \n",
       "0.22    3.848000  2.386000  \n",
       "0.23    3.973379  2.431468  \n",
       "0.24    4.019331  2.465591  \n",
       "...          ...       ...  \n",
       "4.00    9.940000  6.310000  \n",
       "4.01   10.014754  6.205000  \n",
       "4.13    9.850000  6.430000  \n",
       "4.50   10.195532  6.720000  \n",
       "5.01   10.572977  6.980000  \n",
       "\n",
       "[273 rows x 8 columns]"
      ]
     },
     "execution_count": 62,
     "metadata": {},
     "output_type": "execute_result"
    }
   ],
   "source": [
    "#your code here\n",
    "\n",
    "diamonds.groupby(['carat']).mean()"
   ]
  },
  {
   "cell_type": "code",
   "execution_count": null,
   "metadata": {},
   "outputs": [],
   "source": [
    "#your comments"
   ]
  },
  {
   "cell_type": "markdown",
   "metadata": {},
   "source": [
    "\n",
    "**Plot a histogram of the `carat` column by using the `plot` method (see the docs to find an easy way to do so). What is happening?**"
   ]
  },
  {
   "cell_type": "code",
   "execution_count": null,
   "metadata": {},
   "outputs": [],
   "source": [
    "#your code here"
   ]
  },
  {
   "cell_type": "markdown",
   "metadata": {},
   "source": [
    "# 3. The `table` and `clarity` column\n",
    "Finally, let's check the `table`.\n",
    "\n",
    "**Find the mean of each column for each value of `table` using the `groupby` method. Then comment your results.**"
   ]
  },
  {
   "cell_type": "code",
   "execution_count": null,
   "metadata": {},
   "outputs": [],
   "source": [
    "#your code here"
   ]
  },
  {
   "cell_type": "code",
   "execution_count": null,
   "metadata": {},
   "outputs": [],
   "source": [
    "#your comments here"
   ]
  },
  {
   "cell_type": "markdown",
   "metadata": {},
   "source": [
    "**Finally, do the same with the `clarity` column.**"
   ]
  },
  {
   "cell_type": "code",
   "execution_count": null,
   "metadata": {},
   "outputs": [],
   "source": [
    "#your code here"
   ]
  },
  {
   "cell_type": "code",
   "execution_count": null,
   "metadata": {},
   "outputs": [],
   "source": [
    "#your comments here"
   ]
  },
  {
   "cell_type": "markdown",
   "metadata": {},
   "source": [
    "**After looking at your results, which features do you think will affect price the most now? Regarding your hypotheses, do they match your final results? Provide a small overview.**"
   ]
  },
  {
   "cell_type": "code",
   "execution_count": null,
   "metadata": {},
   "outputs": [],
   "source": [
    "#your thoughts here"
   ]
  },
  {
   "cell_type": "markdown",
   "metadata": {},
   "source": [
    "# 4. Taking a deeper look with plots and correlations\n",
    "\n",
    "To take deeper look, we will use the `pairplot` method of `seaborn` library. This method plots a scatterplot for each pair of features and in the diagonal the distribution of the feature.\n",
    "\n",
    "So if you have many features it will take a while, be careful!\n"
   ]
  },
  {
   "cell_type": "code",
   "execution_count": null,
   "metadata": {},
   "outputs": [],
   "source": [
    "#Run this code\n",
    "import seaborn as sns\n",
    "sns.pairplot(diamonds, diag_kind = 'kde', plot_kws = {'alpha': 0.6, 's': 80, 'edgecolor': 'k'})"
   ]
  },
  {
   "cell_type": "markdown",
   "metadata": {},
   "source": [
    "**What do you see here? What relationships between variables are the most interesting?**"
   ]
  },
  {
   "cell_type": "code",
   "execution_count": null,
   "metadata": {},
   "outputs": [],
   "source": [
    "#your thoughts here"
   ]
  },
  {
   "cell_type": "markdown",
   "metadata": {},
   "source": [
    "Now we will see a correlation matrix with a plot. As you know a higher correlation means that the feature could be an effect (**but is not for sure**) for the changes on the price.\n",
    "\n",
    "We will see this with a matrix with colors. A lighter color means greater correlation. \n",
    "\n",
    "This is done with the `seaborn` library as well."
   ]
  },
  {
   "cell_type": "code",
   "execution_count": null,
   "metadata": {
    "scrolled": true
   },
   "outputs": [],
   "source": [
    "# your code here"
   ]
  },
  {
   "cell_type": "markdown",
   "metadata": {},
   "source": [
    "**What do you see here? Regarding the results before, does it fit with them?**"
   ]
  },
  {
   "cell_type": "code",
   "execution_count": null,
   "metadata": {},
   "outputs": [],
   "source": [
    "#your thoughts here"
   ]
  },
  {
   "cell_type": "markdown",
   "metadata": {},
   "source": [
    "Finally, we will calculate the linear regression between the price and the weight. This will be done first by plotting it with the `seaborn` library and then calculating the error with the `scipy` library."
   ]
  },
  {
   "cell_type": "code",
   "execution_count": null,
   "metadata": {
    "scrolled": false
   },
   "outputs": [],
   "source": [
    "# your code here"
   ]
  },
  {
   "cell_type": "markdown",
   "metadata": {},
   "source": [
    "**What do you think?**"
   ]
  },
  {
   "cell_type": "code",
   "execution_count": null,
   "metadata": {},
   "outputs": [],
   "source": [
    "#your thoughts here"
   ]
  },
  {
   "cell_type": "markdown",
   "metadata": {},
   "source": [
    "**Would you do any other checks on other features? Do you have any comments regarding `carat`?**"
   ]
  },
  {
   "cell_type": "code",
   "execution_count": null,
   "metadata": {},
   "outputs": [],
   "source": [
    "#your thoughts here"
   ]
  },
  {
   "cell_type": "markdown",
   "metadata": {},
   "source": [
    "**Conclusion**"
   ]
  },
  {
   "cell_type": "markdown",
   "metadata": {},
   "source": [
    "**From our dataset** we can conclude that although `color` and `clarity` have a classification, and thus an assigned importance or weight, they do not influence the monetary value of a diamond in determining way. While it is true that different colors or clarities may have different prices, upon closer examination those variations in price seem to be linked to `carat` (weight) and its `dimensions`. In our analysis, the key factor to determining a diamond's value was placed solely in the aforementioned features, since we can see in our correlation coefficients and in the coefficient of determination that these features are closely related."
   ]
  }
 ],
 "metadata": {
  "kernelspec": {
   "display_name": "Python 3",
   "language": "python",
   "name": "python3"
  },
  "language_info": {
   "codemirror_mode": {
    "name": "ipython",
    "version": 3
   },
   "file_extension": ".py",
   "mimetype": "text/x-python",
   "name": "python",
   "nbconvert_exporter": "python",
   "pygments_lexer": "ipython3",
   "version": "3.7.4"
  }
 },
 "nbformat": 4,
 "nbformat_minor": 2
}
